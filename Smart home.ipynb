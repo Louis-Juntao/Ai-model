{
 "cells": [
  {
   "cell_type": "code",
   "execution_count": 20,
   "id": "aa97b93f-9859-4b24-a076-6882e9d34d68",
   "metadata": {},
   "outputs": [
    {
     "name": "stdout",
     "output_type": "stream",
     "text": [
      "Each User's Room Summary:\n",
      "   User_ID  Total_Rooms  Number_of_Rooms\n",
      "0        1            3                2\n",
      "1        2            1                3\n",
      "2        3            2                4\n",
      "3        4            1                3\n",
      "Accuracy: 0.6666666666666666\n",
      "Classification Report:\n",
      "               precision    recall  f1-score   support\n",
      "\n",
      "           0       0.00      0.00      0.00         1\n",
      "           1       0.67      1.00      0.80         2\n",
      "\n",
      "    accuracy                           0.67         3\n",
      "   macro avg       0.33      0.50      0.40         3\n",
      "weighted avg       0.44      0.67      0.53         3\n",
      "\n"
     ]
    },
    {
     "name": "stderr",
     "output_type": "stream",
     "text": [
      "/opt/conda/envs/anaconda-2022.05-py39/lib/python3.9/site-packages/sklearn/metrics/_classification.py:1318: UndefinedMetricWarning: Precision and F-score are ill-defined and being set to 0.0 in labels with no predicted samples. Use `zero_division` parameter to control this behavior.\n",
      "  _warn_prf(average, modifier, msg_start, len(result))\n",
      "/opt/conda/envs/anaconda-2022.05-py39/lib/python3.9/site-packages/sklearn/metrics/_classification.py:1318: UndefinedMetricWarning: Precision and F-score are ill-defined and being set to 0.0 in labels with no predicted samples. Use `zero_division` parameter to control this behavior.\n",
      "  _warn_prf(average, modifier, msg_start, len(result))\n",
      "/opt/conda/envs/anaconda-2022.05-py39/lib/python3.9/site-packages/sklearn/metrics/_classification.py:1318: UndefinedMetricWarning: Precision and F-score are ill-defined and being set to 0.0 in labels with no predicted samples. Use `zero_division` parameter to control this behavior.\n",
      "  _warn_prf(average, modifier, msg_start, len(result))\n"
     ]
    },
    {
     "data": {
      "image/png": "[encoded data removed]",
      "text/plain": [
       "<Figure size 432x288 with 1 Axes>"
      ]
     },
     "metadata": {
      "needs_background": "light"
     },
     "output_type": "display_data"
    }
   ],
   "source": [
    "# Import necessary libraries\n",
    "import pandas as pd\n",
    "import numpy as np\n",
    "from sklearn.model_selection import train_test_split\n",
    "from sklearn.svm import SVC\n",
    "from sklearn.metrics import accuracy_score, classification_report\n",
    "import matplotlib.pyplot as plt\n",
    "import joblib\n",
    "\n",
    "# Simulate smart home system data, including temperature, humidity, time of day, and whether the heater is on\n",
    "# Now includes user data with room numbers and number of rooms per house\n",
    "data = {\n",
    "    'User_ID': [1, 2, 1, 3, 4, 2, 3, 1, 4, 2],\n",
    "    'Room_Number': [101, 102, 103, 104, 101, 102, 103, 104, 101, 102],\n",
    "    'Number_of_Rooms': [2, 3, 2, 4, 3, 3, 4, 2, 3, 3],\n",
    "    'Temperature': [22.1, 18.6, 23.4, 16.9, 25.0, 15.3, 20.0, 19.5, 21.0, 17.5],\n",
    "    'Humidity': [30, 50, 45, 80, 35, 60, 55, 70, 40, 65],\n",
    "    'Time_of_Day': [6, 12, 18, 0, 15, 9, 19, 23, 10, 14],\n",
    "    'Heater_On': [1, 0, 1, 0, 0, 1, 0, 0, 1, 1]\n",
    "}\n",
    "\n",
    "df = pd.DataFrame(data)\n",
    "\n",
    "# Create a table with room statistics for each user\n",
    "user_room_summary = df.groupby('User_ID').agg(\n",
    "    Total_Rooms=('Room_Number', 'nunique'),\n",
    "    Number_of_Rooms=('Number_of_Rooms', 'first')  # Assuming each user has a consistent number of rooms\n",
    ").reset_index()\n",
    "\n",
    "# The statistics table is displayed\n",
    "print(\"Each User's Room Summary:\")\n",
    "print(user_room_summary)\n",
    "\n",
    "# Features and targets\n",
    "X = df[['Temperature', 'Humidity', 'Time_of_Day', 'Number_of_Rooms']]\n",
    "y = df['Heater_On']\n",
    "\n",
    "# Split the training set and the test set\n",
    "X_train, X_test, y_train, y_test = train_test_split(X, y, test_size=0.3, random_state=42)\n",
    "\n",
    "# Using a support Vector Machine model (SVM)\n",
    "svm_model = SVC(kernel='linear')\n",
    "svm_model.fit(X_train, y_train)\n",
    "\n",
    "# predicted\n",
    "y_pred = svm_model.predict(X_test)\n",
    "\n",
    "# output\n",
    "print(\"Accuracy:\", accuracy_score(y_test, y_pred))\n",
    "print(\"Classification Report:\\n\", classification_report(y_test, y_pred))\n",
    "\n",
    "# Save model\n",
    "joblib.dump(svm_model, 'svm_smart_home_model.pkl')\n",
    "\n",
    "# Visual\n",
    "plt.scatter(df['Temperature'], df['Humidity'], c=df['Heater_On'])\n",
    "plt.xlabel('Temperature')\n",
    "plt.ylabel('Humidity')\n",
    "plt.title('Heater On/Off based on Temperature and Humidity')\n",
    "plt.show()\n"
   ]
  },
  {
   "cell_type": "code",
   "execution_count": null,
   "id": "55a875d9-8047-482e-8c21-b1a97839327b",
   "metadata": {},
   "outputs": [],
   "source": []
  }
 ],
 "metadata": {
  "kernelspec": {
   "display_name": "anaconda-2022.05-py39",
   "language": "python",
   "name": "conda-env-anaconda-2022.05-py39-py"
  },
  "language_info": {
   "codemirror_mode": {
    "name": "ipython",
    "version": 3
   },
   "file_extension": ".py",
   "mimetype": "text/x-python",
   "name": "python",
   "nbconvert_exporter": "python",
   "pygments_lexer": "ipython3",
   "version": "3.9.12"
  }
 },
 "nbformat": 4,
 "nbformat_minor": 5
}
